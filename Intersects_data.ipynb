{
 "cells": [
  {
   "cell_type": "markdown",
   "metadata": {},
   "source": [
    "## 1. 資料清理\n",
    "因為我有更新過 namelist 資料表，所以要先撈出來植群資料庫(nvdimp_plots_w_sp)沒對到的物種，為了方便起見，\n",
    "另外也再新增一個欄位 namecode，儲存 TaiBNET 的 namecode，未來若物種有分類異動的話只要更新 namecode 即可。"
   ]
  },
  {
   "cell_type": "code",
   "execution_count": 1,
   "metadata": {
    "collapsed": true
   },
   "outputs": [],
   "source": [
    "import psycopg2 as pg\n",
    "import psycopg2.extras\n",
    "import csv\n",
    "import re\n",
    "import itertools\n",
    "import os\n",
    "from IPython import display\n",
    "DSN = 'dbname=nvdimp user=psilotum'\n",
    "conn = pg.connect(DSN)"
   ]
  },
  {
   "cell_type": "code",
   "execution_count": 6,
   "metadata": {
    "collapsed": false
   },
   "outputs": [],
   "source": [
    "with conn:\n",
    "        with conn.cursor(cursor_factory = psycopg2.extras.RealDictCursor) as curs:\n",
    "            CHECK_NULL_ZHNAME = '''\n",
    "            SELECT \n",
    "                distinct species,s.zh_name\n",
    "            FROM \n",
    "                nvdimp_plots_w_sp s \n",
    "            LEFT OUTER JOIN \n",
    "                namelist n \n",
    "            ON \n",
    "                s.species= n.name \n",
    "            WHERE n.zh_name is null; '''\n",
    "            curs.execute(CHECK_NULL_ZHNAME)\n",
    "            null_names = curs.fetchall()"
   ]
  },
  {
   "cell_type": "markdown",
   "metadata": {},
   "source": [
    "結果顯示有 151 個學名沒有正確對應到中名，因此使用 PostgreSQL fuzzymatch 的 ```metaphone()``` 來搜尋比對，因為有 151 個學名要比對，所以寫成 function 來加速比對的程序"
   ]
  },
  {
   "cell_type": "code",
   "execution_count": 11,
   "metadata": {
    "collapsed": false
   },
   "outputs": [],
   "source": [
    "class ListTable(list):\n",
    "    # 參考 \n",
    "    # http://calebmadrigal.com/display-list-as-table-in-ipython-notebook/\n",
    "    def _repr_html_(self):\n",
    "        html = [\"<table>\"]\n",
    "        for row in self:\n",
    "            html.append(\"<tr>\")\n",
    "            \n",
    "            for col in row:\n",
    "                html.append(\"<td>{0}</td>\".format(col))\n",
    "            \n",
    "            html.append(\"</tr>\")\n",
    "        html.append(\"</table>\")\n",
    "        return ''.join(html)\n",
    "    \n",
    "def fuzzysearch(spname, metaphone_sensitivity=7, **kwargs):\n",
    "    print('檢查的學名為: %s' % spname)\n",
    "    # get data from namelist\n",
    "    META_PHONE_MATCH =  '''\n",
    "        SELECT \n",
    "            namecode,name,zh_name[1] \n",
    "        FROM \n",
    "            namelist \n",
    "        WHERE \n",
    "            metaphone('%s', %i) = metaphone(name,%i);''' % (spname, metaphone_sensitivity, metaphone_sensitivity)\n",
    "    with conn:\n",
    "        with conn.cursor(cursor_factory = psycopg2.extras.DictCursor) as curs:\n",
    "            curs.execute(META_PHONE_MATCH)\n",
    "            sp_candidates = curs.fetchall()\n",
    "    sp_candidate_container = []\n",
    "    global table\n",
    "    table = ListTable()\n",
    "    table.append(['id', 'namecode','name','zh_name'])\n",
    "    for i in range(0, len(sp_candidates)):\n",
    "        sp_row = list(itertools.chain(str(i), sp_candidates[i]))\n",
    "        sp_candidate_container.append(sp_row)\n",
    "        table.append(sp_row)\n",
    "    print('相似的學名如下： \\n')\n",
    "    display.display(table)\n",
    "    \n",
    "    # choose correct species namecode\n",
    "    nid = input('Select nearest candidate id: ')\n",
    "\n",
    "    if nid == '':\n",
    "        spname_correct = input('Please input the correct name: ')\n",
    "        UPDATE_MANUALLY = '''\n",
    "        UPDATE nvdimp_plots_w_sp\n",
    "        SET \n",
    "            species = '%s' \n",
    "        WHERE\n",
    "            species = '%s'; ''' % (spname_correct, spname)\n",
    "        with conn:\n",
    "            with conn.cursor(cursor_factory = psycopg2.extras.DictCursor) as curs:\n",
    "                curs.execute(UPDATE_MANUALLY)\n",
    "    else:\n",
    "        # update table\n",
    "        UPDATE_TAB = '''\n",
    "        UPDATE nvdimp_plots_w_sp\n",
    "        SET \n",
    "            namecode = '%s', species = '%s'\n",
    "        WHERE species = '%s'; \n",
    "        ''' % (table[int(nid) + 1][1], table[int(nid) + 1][2], spname)\n",
    "        print(UPDATE_TAB)\n",
    "        confirm = input('Confirm? (Y/n) ')\n",
    "        if confirm == 'Y' or confirm == 'y':\n",
    "            with conn:\n",
    "                with conn.cursor(cursor_factory = psycopg2.extras.DictCursor) as curs:\n",
    "                    curs.execute(UPDATE_TAB)\n",
    "        else:\n",
    "            print('Please type Y or y!')\n",
    "            pass\n",
    "    Out.clear()"
   ]
  },
  {
   "cell_type": "code",
   "execution_count": 215,
   "metadata": {
    "collapsed": false,
    "scrolled": true
   },
   "outputs": [
    {
     "name": "stdout",
     "output_type": "stream",
     "text": [
      "103\n",
      "檢查的學名為: Lycopodium serratum\n",
      "相似的學名如下： \n",
      "\n"
     ]
    },
    {
     "data": {
      "text/html": [
       "<table><tr><td>id</td><td>namecode</td><td>name</td><td>zh_name</td></tr><tr><td>0</td><td>205632</td><td>Lycopodium cernuum</td><td>過山龍</td></tr></table>"
      ],
      "text/plain": [
       "[['id', 'namecode', 'name', 'zh_name'],\n",
       " ['0', '205632', 'Lycopodium cernuum', '過山龍']]"
      ]
     },
     "metadata": {},
     "output_type": "display_data"
    },
    {
     "name": "stdout",
     "output_type": "stream",
     "text": [
      "Select nearest candidate id: \n",
      "Please input the correct name: Huperzia serrata\n",
      "104\n",
      "檢查的學名為: Adiantum capillusveneris\n",
      "相似的學名如下： \n",
      "\n"
     ]
    },
    {
     "data": {
      "text/html": [
       "<table><tr><td>id</td><td>namecode</td><td>name</td><td>zh_name</td></tr><tr><td>0</td><td>205023</td><td>Adiantum capillus-junonis</td><td>團羽鐵線蕨</td></tr><tr><td>1</td><td>205024</td><td>Adiantum capillus-veneris</td><td>鐵線蕨</td></tr></table>"
      ],
      "text/plain": [
       "[['id', 'namecode', 'name', 'zh_name'],\n",
       " ['0', '205023', 'Adiantum capillus-junonis', '團羽鐵線蕨'],\n",
       " ['1', '205024', 'Adiantum capillus-veneris', '鐵線蕨']]"
      ]
     },
     "metadata": {},
     "output_type": "display_data"
    },
    {
     "name": "stdout",
     "output_type": "stream",
     "text": [
      "Select nearest candidate id: 1\n",
      "\n",
      "        UPDATE nvdimp_plots_w_sp\n",
      "        SET \n",
      "            namecode = '205024', species = 'Adiantum capillus-veneris'\n",
      "        WHERE species = 'Adiantum capillusveneris'; \n",
      "        \n",
      "Confirm? (Y/n) y\n",
      "105\n",
      "檢查的學名為: Citrus depress\n",
      "相似的學名如下： \n",
      "\n"
     ]
    },
    {
     "data": {
      "text/html": [
       "<table><tr><td>id</td><td>namecode</td><td>name</td><td>zh_name</td></tr><tr><td>0</td><td>204449</td><td>Citrus depressa</td><td>臺灣香檬</td></tr></table>"
      ],
      "text/plain": [
       "[['id', 'namecode', 'name', 'zh_name'],\n",
       " ['0', '204449', 'Citrus depressa', '臺灣香檬']]"
      ]
     },
     "metadata": {},
     "output_type": "display_data"
    },
    {
     "name": "stdout",
     "output_type": "stream",
     "text": [
      "Select nearest candidate id: 0\n",
      "\n",
      "        UPDATE nvdimp_plots_w_sp\n",
      "        SET \n",
      "            namecode = '204449', species = 'Citrus depressa'\n",
      "        WHERE species = 'Citrus depress'; \n",
      "        \n",
      "Confirm? (Y/n) y\n",
      "106\n",
      "檢查的學名為: Pinus armandii var. masteriana\n",
      "相似的學名如下： \n",
      "\n"
     ]
    },
    {
     "data": {
      "text/html": [
       "<table><tr><td>id</td><td>namecode</td><td>name</td><td>zh_name</td></tr><tr><td>0</td><td>201105</td><td>Pinus armandii var. mastersiana</td><td>臺灣華山松</td></tr></table>"
      ],
      "text/plain": [
       "[['id', 'namecode', 'name', 'zh_name'],\n",
       " ['0', '201105', 'Pinus armandii var. mastersiana', '臺灣華山松']]"
      ]
     },
     "metadata": {},
     "output_type": "display_data"
    },
    {
     "name": "stdout",
     "output_type": "stream",
     "text": [
      "Select nearest candidate id: 0\n",
      "\n",
      "        UPDATE nvdimp_plots_w_sp\n",
      "        SET \n",
      "            namecode = '201105', species = 'Pinus armandii var. mastersiana'\n",
      "        WHERE species = 'Pinus armandii var. masteriana'; \n",
      "        \n",
      "Confirm? (Y/n) y\n",
      "107\n",
      "檢查的學名為: Ficus ampelas\n",
      "相似的學名如下： \n",
      "\n"
     ]
    },
    {
     "data": {
      "text/html": [
       "<table><tr><td>id</td><td>namecode</td><td>name</td><td>zh_name</td></tr><tr><td>0</td><td>204830</td><td>Ficus ampelos</td><td>菲律賓榕</td></tr></table>"
      ],
      "text/plain": [
       "[['id', 'namecode', 'name', 'zh_name'],\n",
       " ['0', '204830', 'Ficus ampelos', '菲律賓榕']]"
      ]
     },
     "metadata": {},
     "output_type": "display_data"
    },
    {
     "name": "stdout",
     "output_type": "stream",
     "text": [
      "Select nearest candidate id: 0\n",
      "\n",
      "        UPDATE nvdimp_plots_w_sp\n",
      "        SET \n",
      "            namecode = '204830', species = 'Ficus ampelos'\n",
      "        WHERE species = 'Ficus ampelas'; \n",
      "        \n",
      "Confirm? (Y/n) y\n",
      "108\n",
      "檢查的學名為: Sapindus mukorossii\n",
      "相似的學名如下： \n",
      "\n"
     ]
    },
    {
     "data": {
      "text/html": [
       "<table><tr><td>id</td><td>namecode</td><td>name</td><td>zh_name</td></tr><tr><td>0</td><td>204487</td><td>Sapindus mukorossi</td><td>無患子</td></tr></table>"
      ],
      "text/plain": [
       "[['id', 'namecode', 'name', 'zh_name'],\n",
       " ['0', '204487', 'Sapindus mukorossi', '無患子']]"
      ]
     },
     "metadata": {},
     "output_type": "display_data"
    },
    {
     "name": "stdout",
     "output_type": "stream",
     "text": [
      "Select nearest candidate id: 0\n",
      "\n",
      "        UPDATE nvdimp_plots_w_sp\n",
      "        SET \n",
      "            namecode = '204487', species = 'Sapindus mukorossi'\n",
      "        WHERE species = 'Sapindus mukorossii'; \n",
      "        \n",
      "Confirm? (Y/n) y\n",
      "109\n",
      "檢查的學名為: Daphne morrisonesis\n",
      "相似的學名如下： \n",
      "\n"
     ]
    },
    {
     "data": {
      "text/html": [
       "<table><tr><td>id</td><td>namecode</td><td>name</td><td>zh_name</td></tr><tr><td>0</td><td>203801</td><td>Daphne morrisonensis</td><td>玉山瑞香</td></tr></table>"
      ],
      "text/plain": [
       "[['id', 'namecode', 'name', 'zh_name'],\n",
       " ['0', '203801', 'Daphne morrisonensis', '玉山瑞香']]"
      ]
     },
     "metadata": {},
     "output_type": "display_data"
    },
    {
     "name": "stdout",
     "output_type": "stream",
     "text": [
      "Select nearest candidate id: 0\n",
      "\n",
      "        UPDATE nvdimp_plots_w_sp\n",
      "        SET \n",
      "            namecode = '203801', species = 'Daphne morrisonensis'\n",
      "        WHERE species = 'Daphne morrisonesis'; \n",
      "        \n",
      "Confirm? (Y/n) y\n",
      "110\n",
      "檢查的學名為: Ponerorchis takasagomontana\n",
      "相似的學名如下： \n",
      "\n"
     ]
    },
    {
     "data": {
      "text/html": [
       "<table><tr><td>id</td><td>namecode</td><td>name</td><td>zh_name</td></tr><tr><td>0</td><td>202200</td><td>Ponerorchis taiwanensis</td><td>臺灣小蝶蘭</td></tr><tr><td>1</td><td>202201</td><td>Ponerorchis takasago-montana</td><td>高山小蝶蘭</td></tr><tr><td>2</td><td>None</td><td>Ponerorchis tominagae</td><td>紅斑蘭</td></tr><tr><td>3</td><td>202202</td><td>Ponerorchis tominagai</td><td>紅班蘭</td></tr></table>"
      ],
      "text/plain": [
       "[['id', 'namecode', 'name', 'zh_name'],\n",
       " ['0', '202200', 'Ponerorchis taiwanensis', '臺灣小蝶蘭'],\n",
       " ['1', '202201', 'Ponerorchis takasago-montana', '高山小蝶蘭'],\n",
       " ['2', None, 'Ponerorchis tominagae', '紅斑蘭'],\n",
       " ['3', '202202', 'Ponerorchis tominagai', '紅班蘭']]"
      ]
     },
     "metadata": {},
     "output_type": "display_data"
    },
    {
     "name": "stdout",
     "output_type": "stream",
     "text": [
      "Select nearest candidate id: 1\n",
      "\n",
      "        UPDATE nvdimp_plots_w_sp\n",
      "        SET \n",
      "            namecode = '202201', species = 'Ponerorchis takasago-montana'\n",
      "        WHERE species = 'Ponerorchis takasagomontana'; \n",
      "        \n",
      "Confirm? (Y/n) y\n",
      "111\n",
      "檢查的學名為: Pasania shinsuiensis\n",
      "相似的學名如下： \n",
      "\n"
     ]
    },
    {
     "data": {
      "text/html": [
       "<table><tr><td>id</td><td>namecode</td><td>name</td><td>zh_name</td></tr></table>"
      ],
      "text/plain": [
       "[['id', 'namecode', 'name', 'zh_name']]"
      ]
     },
     "metadata": {},
     "output_type": "display_data"
    },
    {
     "name": "stdout",
     "output_type": "stream",
     "text": [
      "Select nearest candidate id: \n",
      "Please input the correct name: Lithocarpus shinsuiensis\n",
      "112\n",
      "檢查的學名為: Asplenium pseudolaserpitiifoliom\n",
      "相似的學名如下： \n",
      "\n"
     ]
    },
    {
     "data": {
      "text/html": [
       "<table><tr><td>id</td><td>namecode</td><td>name</td><td>zh_name</td></tr><tr><td>0</td><td>205449</td><td>Asplenium pekinense</td><td>北京鐵角蕨</td></tr><tr><td>1</td><td>205430</td><td>Asplenium apogamum</td><td>無配鐵角蕨</td></tr><tr><td>2</td><td>205451</td><td>Asplenium prolongatum</td><td>長生鐵角蕨</td></tr><tr><td>3</td><td>205452</td><td>Asplenium pseudolaserpitiifolium</td><td>黑鱗鐵角蕨</td></tr><tr><td>4</td><td>205453</td><td>Asplenium pulcherrimum</td><td>細葉鐵角蕨</td></tr><tr><td>5</td><td>408187</td><td>Asplenium planicaule</td><td>斜葉鐵角蕨</td></tr></table>"
      ],
      "text/plain": [
       "[['id', 'namecode', 'name', 'zh_name'],\n",
       " ['0', '205449', 'Asplenium pekinense', '北京鐵角蕨'],\n",
       " ['1', '205430', 'Asplenium apogamum', '無配鐵角蕨'],\n",
       " ['2', '205451', 'Asplenium prolongatum', '長生鐵角蕨'],\n",
       " ['3', '205452', 'Asplenium pseudolaserpitiifolium', '黑鱗鐵角蕨'],\n",
       " ['4', '205453', 'Asplenium pulcherrimum', '細葉鐵角蕨'],\n",
       " ['5', '408187', 'Asplenium planicaule', '斜葉鐵角蕨']]"
      ]
     },
     "metadata": {},
     "output_type": "display_data"
    },
    {
     "name": "stdout",
     "output_type": "stream",
     "text": [
      "Select nearest candidate id: 3\n",
      "\n",
      "        UPDATE nvdimp_plots_w_sp\n",
      "        SET \n",
      "            namecode = '205452', species = 'Asplenium pseudolaserpitiifolium'\n",
      "        WHERE species = 'Asplenium pseudolaserpitiifoliom'; \n",
      "        \n",
      "Confirm? (Y/n) y\n",
      "113\n",
      "檢查的學名為: Viola nagasawai var. pricei\n",
      "相似的學名如下： \n",
      "\n"
     ]
    },
    {
     "data": {
      "text/html": [
       "<table><tr><td>id</td><td>namecode</td><td>name</td><td>zh_name</td></tr><tr><td>0</td><td>205014</td><td>Viola nagasawae var. pricei</td><td>普萊氏堇菜</td></tr><tr><td>1</td><td>400879</td><td>Viola nagasawae var. pricei</td><td>普萊氏堇菜</td></tr><tr><td>2</td><td>400878</td><td>Viola nagasawae var. nagasawai</td><td>臺北堇菜</td></tr></table>"
      ],
      "text/plain": [
       "[['id', 'namecode', 'name', 'zh_name'],\n",
       " ['0', '205014', 'Viola nagasawae var. pricei', '普萊氏堇菜'],\n",
       " ['1', '400879', 'Viola nagasawae var. pricei', '普萊氏堇菜'],\n",
       " ['2', '400878', 'Viola nagasawae var. nagasawai', '臺北堇菜']]"
      ]
     },
     "metadata": {},
     "output_type": "display_data"
    },
    {
     "name": "stdout",
     "output_type": "stream",
     "text": [
      "Select nearest candidate id: 0\n",
      "\n",
      "        UPDATE nvdimp_plots_w_sp\n",
      "        SET \n",
      "            namecode = '205014', species = 'Viola nagasawae var. pricei'\n",
      "        WHERE species = 'Viola nagasawai var. pricei'; \n",
      "        \n",
      "Confirm? (Y/n) y\n",
      "114\n",
      "檢查的學名為: Ailanthus altissima var. tanakai\n",
      "相似的學名如下： \n",
      "\n"
     ]
    },
    {
     "data": {
      "text/html": [
       "<table><tr><td>id</td><td>namecode</td><td>name</td><td>zh_name</td></tr><tr><td>0</td><td>204488</td><td>Ailanthus altissima var. tanakae</td><td>臭椿</td></tr></table>"
      ],
      "text/plain": [
       "[['id', 'namecode', 'name', 'zh_name'],\n",
       " ['0', '204488', 'Ailanthus altissima var. tanakae', '臭椿']]"
      ]
     },
     "metadata": {},
     "output_type": "display_data"
    },
    {
     "name": "stdout",
     "output_type": "stream",
     "text": [
      "Select nearest candidate id: 0\n",
      "\n",
      "        UPDATE nvdimp_plots_w_sp\n",
      "        SET \n",
      "            namecode = '204488', species = 'Ailanthus altissima var. tanakae'\n",
      "        WHERE species = 'Ailanthus altissima var. tanakai'; \n",
      "        \n",
      "Confirm? (Y/n) y\n",
      "115\n",
      "檢查的學名為: Desmodium gracillium\n",
      "相似的學名如下： \n",
      "\n"
     ]
    },
    {
     "data": {
      "text/html": [
       "<table><tr><td>id</td><td>namecode</td><td>name</td><td>zh_name</td></tr><tr><td>0</td><td>203107</td><td>Desmodium gracillimum</td><td>細葉山螞蝗</td></tr></table>"
      ],
      "text/plain": [
       "[['id', 'namecode', 'name', 'zh_name'],\n",
       " ['0', '203107', 'Desmodium gracillimum', '細葉山螞蝗']]"
      ]
     },
     "metadata": {},
     "output_type": "display_data"
    },
    {
     "name": "stdout",
     "output_type": "stream",
     "text": [
      "Select nearest candidate id: 0\n",
      "\n",
      "        UPDATE nvdimp_plots_w_sp\n",
      "        SET \n",
      "            namecode = '203107', species = 'Desmodium gracillimum'\n",
      "        WHERE species = 'Desmodium gracillium'; \n",
      "        \n",
      "Confirm? (Y/n) y\n",
      "116\n",
      "檢查的學名為: Agropyron mayebaranum\n",
      "相似的學名如下： \n",
      "\n"
     ]
    },
    {
     "data": {
      "text/html": [
       "<table><tr><td>id</td><td>namecode</td><td>name</td><td>zh_name</td></tr></table>"
      ],
      "text/plain": [
       "[['id', 'namecode', 'name', 'zh_name']]"
      ]
     },
     "metadata": {},
     "output_type": "display_data"
    },
    {
     "name": "stdout",
     "output_type": "stream",
     "text": [
      "Select nearest candidate id: \n",
      "Please input the correct name: Elymus tsukushiensis\n",
      "117\n",
      "檢查的學名為: Lycopodium taiwanense\n",
      "相似的學名如下： \n",
      "\n"
     ]
    },
    {
     "data": {
      "text/html": [
       "<table><tr><td>id</td><td>namecode</td><td>name</td><td>zh_name</td></tr></table>"
      ],
      "text/plain": [
       "[['id', 'namecode', 'name', 'zh_name']]"
      ]
     },
     "metadata": {},
     "output_type": "display_data"
    },
    {
     "name": "stdout",
     "output_type": "stream",
     "text": [
      "Select nearest candidate id: \n",
      "Please input the correct name: Huperzia taiwanense\n",
      "118\n",
      "檢查的學名為: Taxillus liquidambaricolus\n",
      "相似的學名如下： \n",
      "\n"
     ]
    },
    {
     "data": {
      "text/html": [
       "<table><tr><td>id</td><td>namecode</td><td>name</td><td>zh_name</td></tr><tr><td>0</td><td>424036</td><td>Taxillus liquidambaricola</td><td>大葉桑寄生</td></tr></table>"
      ],
      "text/plain": [
       "[['id', 'namecode', 'name', 'zh_name'],\n",
       " ['0', '424036', 'Taxillus liquidambaricola', '大葉桑寄生']]"
      ]
     },
     "metadata": {},
     "output_type": "display_data"
    },
    {
     "name": "stdout",
     "output_type": "stream",
     "text": [
      "Select nearest candidate id: 0\n",
      "\n",
      "        UPDATE nvdimp_plots_w_sp\n",
      "        SET \n",
      "            namecode = '424036', species = 'Taxillus liquidambaricola'\n",
      "        WHERE species = 'Taxillus liquidambaricolus'; \n",
      "        \n",
      "Confirm? (Y/n) y\n",
      "119\n",
      "檢查的學名為: Chamaecrista nictitans subsp. patellaria var. glabrata\n",
      "相似的學名如下： \n",
      "\n"
     ]
    },
    {
     "data": {
      "text/html": [
       "<table><tr><td>id</td><td>namecode</td><td>name</td><td>zh_name</td></tr><tr><td>0</td><td>203070</td><td>Chamaecrista nomame</td><td>豆茶決明</td></tr><tr><td>1</td><td>203069</td><td>Chamaecrista nictitans var. glabrata</td><td>大葉假含羞草</td></tr></table>"
      ],
      "text/plain": [
       "[['id', 'namecode', 'name', 'zh_name'],\n",
       " ['0', '203070', 'Chamaecrista nomame', '豆茶決明'],\n",
       " ['1', '203069', 'Chamaecrista nictitans var. glabrata', '大葉假含羞草']]"
      ]
     },
     "metadata": {},
     "output_type": "display_data"
    },
    {
     "name": "stdout",
     "output_type": "stream",
     "text": [
      "Select nearest candidate id: 1\n",
      "\n",
      "        UPDATE nvdimp_plots_w_sp\n",
      "        SET \n",
      "            namecode = '203069', species = 'Chamaecrista nictitans var. glabrata'\n",
      "        WHERE species = 'Chamaecrista nictitans subsp. patellaria var. glabrata'; \n",
      "        \n",
      "Confirm? (Y/n) y\n",
      "120\n",
      "檢查的學名為: Rhus javanica var. roxburghiana\n",
      "相似的學名如下： \n",
      "\n"
     ]
    },
    {
     "data": {
      "text/html": [
       "<table><tr><td>id</td><td>namecode</td><td>name</td><td>zh_name</td></tr><tr><td>0</td><td>204431</td><td>Rhus javanica var. roxburghii</td><td>羅氏鹽膚木</td></tr></table>"
      ],
      "text/plain": [
       "[['id', 'namecode', 'name', 'zh_name'],\n",
       " ['0', '204431', 'Rhus javanica var. roxburghii', '羅氏鹽膚木']]"
      ]
     },
     "metadata": {},
     "output_type": "display_data"
    },
    {
     "name": "stdout",
     "output_type": "stream",
     "text": [
      "Select nearest candidate id: 0\n",
      "\n",
      "        UPDATE nvdimp_plots_w_sp\n",
      "        SET \n",
      "            namecode = '204431', species = 'Rhus javanica var. roxburghii'\n",
      "        WHERE species = 'Rhus javanica var. roxburghiana'; \n",
      "        \n",
      "Confirm? (Y/n) y\n",
      "121\n",
      "檢查的學名為: Chloranthus oldhami\n",
      "相似的學名如下： \n",
      "\n"
     ]
    },
    {
     "data": {
      "text/html": [
       "<table><tr><td>id</td><td>namecode</td><td>name</td><td>zh_name</td></tr><tr><td>0</td><td>203836</td><td>Chloranthus oldhamii</td><td>臺灣及己</td></tr></table>"
      ],
      "text/plain": [
       "[['id', 'namecode', 'name', 'zh_name'],\n",
       " ['0', '203836', 'Chloranthus oldhamii', '臺灣及己']]"
      ]
     },
     "metadata": {},
     "output_type": "display_data"
    },
    {
     "name": "stdout",
     "output_type": "stream",
     "text": [
      "Select nearest candidate id: 0\n",
      "\n",
      "        UPDATE nvdimp_plots_w_sp\n",
      "        SET \n",
      "            namecode = '203836', species = 'Chloranthus oldhamii'\n",
      "        WHERE species = 'Chloranthus oldhami'; \n",
      "        \n",
      "Confirm? (Y/n) y\n",
      "122\n",
      "檢查的學名為: Microsorium steerei\n",
      "相似的學名如下： \n",
      "\n"
     ]
    },
    {
     "data": {
      "text/html": [
       "<table><tr><td>id</td><td>namecode</td><td>name</td><td>zh_name</td></tr><tr><td>0</td><td>None</td><td>Microsorum scolopendria</td><td>海岸星蕨</td></tr><tr><td>1</td><td>427007</td><td>Microsorum steerei</td><td>廣葉星蕨</td></tr></table>"
      ],
      "text/plain": [
       "[['id', 'namecode', 'name', 'zh_name'],\n",
       " ['0', None, 'Microsorum scolopendria', '海岸星蕨'],\n",
       " ['1', '427007', 'Microsorum steerei', '廣葉星蕨']]"
      ]
     },
     "metadata": {},
     "output_type": "display_data"
    },
    {
     "name": "stdout",
     "output_type": "stream",
     "text": [
      "Select nearest candidate id: 1\n",
      "\n",
      "        UPDATE nvdimp_plots_w_sp\n",
      "        SET \n",
      "            namecode = '427007', species = 'Microsorum steerei'\n",
      "        WHERE species = 'Microsorium steerei'; \n",
      "        \n",
      "Confirm? (Y/n) y\n",
      "123\n",
      "檢查的學名為: Heterosmilax japonica\n",
      "相似的學名如下： \n",
      "\n"
     ]
    },
    {
     "data": {
      "text/html": [
       "<table><tr><td>id</td><td>namecode</td><td>name</td><td>zh_name</td></tr></table>"
      ],
      "text/plain": [
       "[['id', 'namecode', 'name', 'zh_name']]"
      ]
     },
     "metadata": {},
     "output_type": "display_data"
    },
    {
     "name": "stdout",
     "output_type": "stream",
     "text": [
      "Select nearest candidate id: \n",
      "Please input the correct name: Smilax bockii\n",
      "124\n",
      "檢查的學名為: Parasenecio hwangshanica\n",
      "相似的學名如下： \n",
      "\n"
     ]
    },
    {
     "data": {
      "text/html": [
       "<table><tr><td>id</td><td>namecode</td><td>name</td><td>zh_name</td></tr><tr><td>0</td><td>202530</td><td>Parasenecio hwangshanicus</td><td>黃山蟹甲草</td></tr></table>"
      ],
      "text/plain": [
       "[['id', 'namecode', 'name', 'zh_name'],\n",
       " ['0', '202530', 'Parasenecio hwangshanicus', '黃山蟹甲草']]"
      ]
     },
     "metadata": {},
     "output_type": "display_data"
    },
    {
     "name": "stdout",
     "output_type": "stream",
     "text": [
      "Select nearest candidate id: 0\n",
      "\n",
      "        UPDATE nvdimp_plots_w_sp\n",
      "        SET \n",
      "            namecode = '202530', species = 'Parasenecio hwangshanicus'\n",
      "        WHERE species = 'Parasenecio hwangshanica'; \n",
      "        \n",
      "Confirm? (Y/n) y\n",
      "125\n",
      "檢查的學名為: Goodyera rubicunda\n",
      "相似的學名如下： \n",
      "\n"
     ]
    },
    {
     "data": {
      "text/html": [
       "<table><tr><td>id</td><td>namecode</td><td>name</td><td>zh_name</td></tr></table>"
      ],
      "text/plain": [
       "[['id', 'namecode', 'name', 'zh_name']]"
      ]
     },
     "metadata": {},
     "output_type": "display_data"
    },
    {
     "name": "stdout",
     "output_type": "stream",
     "text": [
      "Select nearest candidate id: \n",
      "Please input the correct name: Goodyera clavata\n",
      "126\n",
      "檢查的學名為: Pasania glabra\n",
      "相似的學名如下： \n",
      "\n"
     ]
    },
    {
     "data": {
      "text/html": [
       "<table><tr><td>id</td><td>namecode</td><td>name</td><td>zh_name</td></tr></table>"
      ],
      "text/plain": [
       "[['id', 'namecode', 'name', 'zh_name']]"
      ]
     },
     "metadata": {},
     "output_type": "display_data"
    },
    {
     "name": "stdout",
     "output_type": "stream",
     "text": [
      "Select nearest candidate id: \n",
      "Please input the correct name: Lithocarpus glaber\n",
      "127\n",
      "檢查的學名為: Cyclobalanopsis gilva\n",
      "相似的學名如下： \n",
      "\n"
     ]
    },
    {
     "data": {
      "text/html": [
       "<table><tr><td>id</td><td>namecode</td><td>name</td><td>zh_name</td></tr><tr><td>0</td><td>203280</td><td>Cyclobalanopsis globosa f. bosa</td><td>圓果青剛櫟</td></tr><tr><td>1</td><td>203279</td><td>Cyclobalanopsis globosa f. apautaiensis</td><td>佳保台圓果青剛櫟</td></tr><tr><td>2</td><td>203285</td><td>Cyclobalanopsis longinux var. longinux</td><td>錐果櫟</td></tr><tr><td>3</td><td>203276</td><td>Cyclobalanopsis glauca var. glauca</td><td>青剛櫟</td></tr><tr><td>4</td><td>203292</td><td>Cyclobalanopsis stenophylloides</td><td>狹葉櫟</td></tr><tr><td>5</td><td>203277</td><td>Cyclobalanopsis glauca var. kuyuensis</td><td>谷園青剛櫟</td></tr><tr><td>6</td><td>203283</td><td>Cyclobalanopsis longinux var. kuoi</td><td>郭氏錐果櫟</td></tr><tr><td>7</td><td>203284</td><td>Cyclobalanopsis longinux var. lativiolacifolia</td><td>紫背錐果櫟</td></tr><tr><td>8</td><td>203287</td><td>Cyclobalanopsis myrsinifolia</td><td>黑櫟</td></tr></table>"
      ],
      "text/plain": [
       "[['id', 'namecode', 'name', 'zh_name'],\n",
       " ['0', '203280', 'Cyclobalanopsis globosa f. bosa', '圓果青剛櫟'],\n",
       " ['1', '203279', 'Cyclobalanopsis globosa f. apautaiensis', '佳保台圓果青剛櫟'],\n",
       " ['2', '203285', 'Cyclobalanopsis longinux var. longinux', '錐果櫟'],\n",
       " ['3', '203276', 'Cyclobalanopsis glauca var. glauca', '青剛櫟'],\n",
       " ['4', '203292', 'Cyclobalanopsis stenophylloides', '狹葉櫟'],\n",
       " ['5', '203277', 'Cyclobalanopsis glauca var. kuyuensis', '谷園青剛櫟'],\n",
       " ['6', '203283', 'Cyclobalanopsis longinux var. kuoi', '郭氏錐果櫟'],\n",
       " ['7', '203284', 'Cyclobalanopsis longinux var. lativiolacifolia', '紫背錐果櫟'],\n",
       " ['8', '203287', 'Cyclobalanopsis myrsinifolia', '黑櫟']]"
      ]
     },
     "metadata": {},
     "output_type": "display_data"
    },
    {
     "name": "stdout",
     "output_type": "stream",
     "text": [
      "Select nearest candidate id: \n",
      "Please input the correct name: Quercus gilva\n",
      "128\n",
      "檢查的學名為: Lycopodium serratum var. longipetiolatum\n",
      "相似的學名如下： \n",
      "\n"
     ]
    },
    {
     "data": {
      "text/html": [
       "<table><tr><td>id</td><td>namecode</td><td>name</td><td>zh_name</td></tr><tr><td>0</td><td>205632</td><td>Lycopodium cernuum</td><td>過山龍</td></tr></table>"
      ],
      "text/plain": [
       "[['id', 'namecode', 'name', 'zh_name'],\n",
       " ['0', '205632', 'Lycopodium cernuum', '過山龍']]"
      ]
     },
     "metadata": {},
     "output_type": "display_data"
    },
    {
     "name": "stdout",
     "output_type": "stream",
     "text": [
      "Select nearest candidate id: \n",
      "Please input the correct name: Huperzia serrata var. longipetiolata\n",
      "129\n",
      "檢查的學名為: Disporopsis fuscopicota var. arisanensis\n",
      "相似的學名如下： \n",
      "\n"
     ]
    },
    {
     "data": {
      "text/html": [
       "<table><tr><td>id</td><td>namecode</td><td>name</td><td>zh_name</td></tr><tr><td>0</td><td>201800</td><td>Disporopsis taiwanensis</td><td>臺灣假寶鐸花</td></tr><tr><td>1</td><td>201799</td><td>Disporopsis fuscopicta var. arisanensis</td><td>阿里山假寶鐸花</td></tr></table>"
      ],
      "text/plain": [
       "[['id', 'namecode', 'name', 'zh_name'],\n",
       " ['0', '201800', 'Disporopsis taiwanensis', '臺灣假寶鐸花'],\n",
       " ['1', '201799', 'Disporopsis fuscopicta var. arisanensis', '阿里山假寶鐸花']]"
      ]
     },
     "metadata": {},
     "output_type": "display_data"
    },
    {
     "name": "stdout",
     "output_type": "stream",
     "text": [
      "Select nearest candidate id: 1\n",
      "\n",
      "        UPDATE nvdimp_plots_w_sp\n",
      "        SET \n",
      "            namecode = '201799', species = 'Disporopsis fuscopicta var. arisanensis'\n",
      "        WHERE species = 'Disporopsis fuscopicota var. arisanensis'; \n",
      "        \n",
      "Confirm? (Y/n) y\n",
      "130\n",
      "檢查的學名為: Deyeuxia brachytricha\n",
      "相似的學名如下： \n",
      "\n"
     ]
    },
    {
     "data": {
      "text/html": [
       "<table><tr><td>id</td><td>namecode</td><td>name</td><td>zh_name</td></tr></table>"
      ],
      "text/plain": [
       "[['id', 'namecode', 'name', 'zh_name']]"
      ]
     },
     "metadata": {},
     "output_type": "display_data"
    },
    {
     "name": "stdout",
     "output_type": "stream",
     "text": [
      "Select nearest candidate id: \n",
      "Please input the correct name: Deyeuxia pyramidalis\n",
      "131\n",
      "檢查的學名為: Monotropa hypopithys\n",
      "相似的學名如下： \n",
      "\n"
     ]
    },
    {
     "data": {
      "text/html": [
       "<table><tr><td>id</td><td>namecode</td><td>name</td><td>zh_name</td></tr><tr><td>0</td><td>202926</td><td>Monotropa hypopitys</td><td>錫杖花</td></tr></table>"
      ],
      "text/plain": [
       "[['id', 'namecode', 'name', 'zh_name'],\n",
       " ['0', '202926', 'Monotropa hypopitys', '錫杖花']]"
      ]
     },
     "metadata": {},
     "output_type": "display_data"
    },
    {
     "name": "stdout",
     "output_type": "stream",
     "text": [
      "Select nearest candidate id: 0\n",
      "\n",
      "        UPDATE nvdimp_plots_w_sp\n",
      "        SET \n",
      "            namecode = '202926', species = 'Monotropa hypopitys'\n",
      "        WHERE species = 'Monotropa hypopithys'; \n",
      "        \n",
      "Confirm? (Y/n) y\n",
      "132\n",
      "檢查的學名為: Daphniphyllum himalaense subsp. macropodum\n",
      "相似的學名如下： \n",
      "\n"
     ]
    },
    {
     "data": {
      "text/html": [
       "<table><tr><td>id</td><td>namecode</td><td>name</td><td>zh_name</td></tr><tr><td>0</td><td>202804</td><td>Daphniphyllum himalayense subsp. macropodum</td><td>薄葉虎皮楠</td></tr></table>"
      ],
      "text/plain": [
       "[['id', 'namecode', 'name', 'zh_name'],\n",
       " ['0', '202804', 'Daphniphyllum himalayense subsp. macropodum', '薄葉虎皮楠']]"
      ]
     },
     "metadata": {},
     "output_type": "display_data"
    },
    {
     "name": "stdout",
     "output_type": "stream",
     "text": [
      "Select nearest candidate id: 0\n",
      "\n",
      "        UPDATE nvdimp_plots_w_sp\n",
      "        SET \n",
      "            namecode = '202804', species = 'Daphniphyllum himalayense subsp. macropodum'\n",
      "        WHERE species = 'Daphniphyllum himalaense subsp. macropodum'; \n",
      "        \n",
      "Confirm? (Y/n) y\n",
      "133\n",
      "檢查的學名為: Cornopteris decurrentialatum\n",
      "相似的學名如下： \n",
      "\n"
     ]
    },
    {
     "data": {
      "text/html": [
       "<table><tr><td>id</td><td>namecode</td><td>name</td><td>zh_name</td></tr><tr><td>0</td><td>205077</td><td>Cornopteris philippinensis</td><td>菲律賓貞蕨</td></tr><tr><td>1</td><td>None</td><td>Cornopteris decurrenti-alata</td><td>貞蕨</td></tr><tr><td>2</td><td>409672</td><td>Cornopteris fluvialis</td><td>大葉貞蕨</td></tr><tr><td>3</td><td>205076</td><td>Cornopteris opaca</td><td>黑葉貞蕨</td></tr></table>"
      ],
      "text/plain": [
       "[['id', 'namecode', 'name', 'zh_name'],\n",
       " ['0', '205077', 'Cornopteris philippinensis', '菲律賓貞蕨'],\n",
       " ['1', None, 'Cornopteris decurrenti-alata', '貞蕨'],\n",
       " ['2', '409672', 'Cornopteris fluvialis', '大葉貞蕨'],\n",
       " ['3', '205076', 'Cornopteris opaca', '黑葉貞蕨']]"
      ]
     },
     "metadata": {},
     "output_type": "display_data"
    },
    {
     "name": "stdout",
     "output_type": "stream",
     "text": [
      "Select nearest candidate id: 1\n",
      "\n",
      "        UPDATE nvdimp_plots_w_sp\n",
      "        SET \n",
      "            namecode = 'None', species = 'Cornopteris decurrenti-alata'\n",
      "        WHERE species = 'Cornopteris decurrentialatum'; \n",
      "        \n",
      "Confirm? (Y/n) y\n",
      "134\n",
      "檢查的學名為: Arachniodes rhomboides var. yakusimensis\n",
      "相似的學名如下： \n",
      "\n"
     ]
    },
    {
     "data": {
      "text/html": [
       "<table><tr><td>id</td><td>namecode</td><td>name</td><td>zh_name</td></tr><tr><td>0</td><td>410231</td><td>Arachniodes aristata</td><td>細葉複葉耳蕨</td></tr><tr><td>1</td><td>426780</td><td>Arachniodes rhomboidea</td><td>斜方複葉耳蕨</td></tr><tr><td>2</td><td>None</td><td>Arachniodes rhomboidea var. yakusimensis</td><td>屋久複葉耳蕨</td></tr></table>"
      ],
      "text/plain": [
       "[['id', 'namecode', 'name', 'zh_name'],\n",
       " ['0', '410231', 'Arachniodes aristata', '細葉複葉耳蕨'],\n",
       " ['1', '426780', 'Arachniodes rhomboidea', '斜方複葉耳蕨'],\n",
       " ['2', None, 'Arachniodes rhomboidea var. yakusimensis', '屋久複葉耳蕨']]"
      ]
     },
     "metadata": {},
     "output_type": "display_data"
    },
    {
     "name": "stdout",
     "output_type": "stream",
     "text": [
      "Select nearest candidate id: 2\n",
      "\n",
      "        UPDATE nvdimp_plots_w_sp\n",
      "        SET \n",
      "            namecode = 'None', species = 'Arachniodes rhomboidea var. yakusimensis'\n",
      "        WHERE species = 'Arachniodes rhomboides var. yakusimensis'; \n",
      "        \n",
      "Confirm? (Y/n) y\n",
      "135\n",
      "檢查的學名為: Arachniodes rhomboides\n",
      "相似的學名如下： \n",
      "\n"
     ]
    },
    {
     "data": {
      "text/html": [
       "<table><tr><td>id</td><td>namecode</td><td>name</td><td>zh_name</td></tr><tr><td>0</td><td>410231</td><td>Arachniodes aristata</td><td>細葉複葉耳蕨</td></tr><tr><td>1</td><td>426780</td><td>Arachniodes rhomboidea</td><td>斜方複葉耳蕨</td></tr><tr><td>2</td><td>None</td><td>Arachniodes rhomboidea var. yakusimensis</td><td>屋久複葉耳蕨</td></tr></table>"
      ],
      "text/plain": [
       "[['id', 'namecode', 'name', 'zh_name'],\n",
       " ['0', '410231', 'Arachniodes aristata', '細葉複葉耳蕨'],\n",
       " ['1', '426780', 'Arachniodes rhomboidea', '斜方複葉耳蕨'],\n",
       " ['2', None, 'Arachniodes rhomboidea var. yakusimensis', '屋久複葉耳蕨']]"
      ]
     },
     "metadata": {},
     "output_type": "display_data"
    },
    {
     "name": "stdout",
     "output_type": "stream",
     "text": [
      "Select nearest candidate id: 1\n",
      "\n",
      "        UPDATE nvdimp_plots_w_sp\n",
      "        SET \n",
      "            namecode = '426780', species = 'Arachniodes rhomboidea'\n",
      "        WHERE species = 'Arachniodes rhomboides'; \n",
      "        \n",
      "Confirm? (Y/n) y\n",
      "136\n",
      "檢查的學名為: Odontochilus brevistylus\n",
      "相似的學名如下： \n",
      "\n"
     ]
    },
    {
     "data": {
      "text/html": [
       "<table><tr><td>id</td><td>namecode</td><td>name</td><td>zh_name</td></tr><tr><td>0</td><td>None</td><td>Odontochilus poilanei</td><td>齒爪齒唇蘭</td></tr><tr><td>1</td><td>202163</td><td>Odontochilus brevistylis</td><td>短柱齒唇蘭</td></tr><tr><td>2</td><td>202164</td><td>Odontochilus elwesii</td><td>紫葉齒唇蘭</td></tr><tr><td>3</td><td>202166</td><td>Odontochilus lanceolatus</td><td>雙囊齒唇蘭</td></tr><tr><td>4</td><td>202165</td><td>Odontochilus inabai</td><td>單囊齒唇蘭</td></tr><tr><td>5</td><td>426256</td><td>Odontochilus nanlingensis</td><td>南嶺齒唇蘭</td></tr><tr><td>6</td><td>400852</td><td>Odontochilus inabae</td><td>單囊齒唇蘭</td></tr></table>"
      ],
      "text/plain": [
       "[['id', 'namecode', 'name', 'zh_name'],\n",
       " ['0', None, 'Odontochilus poilanei', '齒爪齒唇蘭'],\n",
       " ['1', '202163', 'Odontochilus brevistylis', '短柱齒唇蘭'],\n",
       " ['2', '202164', 'Odontochilus elwesii', '紫葉齒唇蘭'],\n",
       " ['3', '202166', 'Odontochilus lanceolatus', '雙囊齒唇蘭'],\n",
       " ['4', '202165', 'Odontochilus inabai', '單囊齒唇蘭'],\n",
       " ['5', '426256', 'Odontochilus nanlingensis', '南嶺齒唇蘭'],\n",
       " ['6', '400852', 'Odontochilus inabae', '單囊齒唇蘭']]"
      ]
     },
     "metadata": {},
     "output_type": "display_data"
    },
    {
     "name": "stdout",
     "output_type": "stream",
     "text": [
      "Select nearest candidate id: 1\n",
      "\n",
      "        UPDATE nvdimp_plots_w_sp\n",
      "        SET \n",
      "            namecode = '202163', species = 'Odontochilus brevistylis'\n",
      "        WHERE species = 'Odontochilus brevistylus'; \n",
      "        \n",
      "Confirm? (Y/n) y\n",
      "137\n",
      "檢查的學名為: Asplenium adiantumnigrum\n",
      "相似的學名如下： \n",
      "\n"
     ]
    },
    {
     "data": {
      "text/html": [
       "<table><tr><td>id</td><td>namecode</td><td>name</td><td>zh_name</td></tr><tr><td>0</td><td>None</td><td>Asplenium adiantum-nigrum</td><td>深山鐵角蕨</td></tr><tr><td>1</td><td>408144</td><td>Asplenium adiantoides</td><td>革葉鐵角蕨</td></tr><tr><td>2</td><td>205464</td><td>Asplenium trichomanes</td><td>鐵角蕨</td></tr><tr><td>3</td><td>205463</td><td>Asplenium tenuifolium</td><td>薄葉鐵角蕨</td></tr><tr><td>4</td><td>205461</td><td>Asplenium tenerum</td><td>鈍齒鐵角蕨</td></tr><tr><td>5</td><td>205465</td><td>Asplenium tripteropus</td><td>三翅鐵角蕨</td></tr><tr><td>6</td><td>205462</td><td>Asplenium tenuicaule</td><td>小葉鐵角蕨</td></tr></table>"
      ],
      "text/plain": [
       "[['id', 'namecode', 'name', 'zh_name'],\n",
       " ['0', None, 'Asplenium adiantum-nigrum', '深山鐵角蕨'],\n",
       " ['1', '408144', 'Asplenium adiantoides', '革葉鐵角蕨'],\n",
       " ['2', '205464', 'Asplenium trichomanes', '鐵角蕨'],\n",
       " ['3', '205463', 'Asplenium tenuifolium', '薄葉鐵角蕨'],\n",
       " ['4', '205461', 'Asplenium tenerum', '鈍齒鐵角蕨'],\n",
       " ['5', '205465', 'Asplenium tripteropus', '三翅鐵角蕨'],\n",
       " ['6', '205462', 'Asplenium tenuicaule', '小葉鐵角蕨']]"
      ]
     },
     "metadata": {},
     "output_type": "display_data"
    },
    {
     "name": "stdout",
     "output_type": "stream",
     "text": [
      "Select nearest candidate id: 0\n",
      "\n",
      "        UPDATE nvdimp_plots_w_sp\n",
      "        SET \n",
      "            namecode = 'None', species = 'Asplenium adiantum-nigrum'\n",
      "        WHERE species = 'Asplenium adiantumnigrum'; \n",
      "        \n",
      "Confirm? (Y/n) y\n",
      "138\n",
      "檢查的學名為: Styrax suberifolia\n",
      "相似的學名如下： \n",
      "\n"
     ]
    },
    {
     "data": {
      "text/html": [
       "<table><tr><td>id</td><td>namecode</td><td>name</td><td>zh_name</td></tr><tr><td>0</td><td>202861</td><td>Styrax suberifolius</td><td>紅皮</td></tr></table>"
      ],
      "text/plain": [
       "[['id', 'namecode', 'name', 'zh_name'],\n",
       " ['0', '202861', 'Styrax suberifolius', '紅皮']]"
      ]
     },
     "metadata": {},
     "output_type": "display_data"
    },
    {
     "name": "stdout",
     "output_type": "stream",
     "text": [
      "Select nearest candidate id: 0\n",
      "\n",
      "        UPDATE nvdimp_plots_w_sp\n",
      "        SET \n",
      "            namecode = '202861', species = 'Styrax suberifolius'\n",
      "        WHERE species = 'Styrax suberifolia'; \n",
      "        \n",
      "Confirm? (Y/n) y\n",
      "139\n",
      "檢查的學名為: Polygonum virginatum var. filiforme\n",
      "相似的學名如下： \n",
      "\n"
     ]
    },
    {
     "data": {
      "text/html": [
       "<table><tr><td>id</td><td>namecode</td><td>name</td><td>zh_name</td></tr><tr><td>0</td><td>203914</td><td>Polygonum virginianum var. filiforme</td><td>金線草</td></tr></table>"
      ],
      "text/plain": [
       "[['id', 'namecode', 'name', 'zh_name'],\n",
       " ['0', '203914', 'Polygonum virginianum var. filiforme', '金線草']]"
      ]
     },
     "metadata": {},
     "output_type": "display_data"
    },
    {
     "name": "stdout",
     "output_type": "stream",
     "text": [
      "Select nearest candidate id: 0\n",
      "\n",
      "        UPDATE nvdimp_plots_w_sp\n",
      "        SET \n",
      "            namecode = '203914', species = 'Polygonum virginianum var. filiforme'\n",
      "        WHERE species = 'Polygonum virginatum var. filiforme'; \n",
      "        \n",
      "Confirm? (Y/n) y\n",
      "140\n",
      "檢查的學名為: Selaginella mollendorffii\n",
      "相似的學名如下： \n",
      "\n"
     ]
    },
    {
     "data": {
      "text/html": [
       "<table><tr><td>id</td><td>namecode</td><td>name</td><td>zh_name</td></tr><tr><td>0</td><td>205659</td><td>Selaginella moellendorffii</td><td>異葉卷柏</td></tr></table>"
      ],
      "text/plain": [
       "[['id', 'namecode', 'name', 'zh_name'],\n",
       " ['0', '205659', 'Selaginella moellendorffii', '異葉卷柏']]"
      ]
     },
     "metadata": {},
     "output_type": "display_data"
    },
    {
     "name": "stdout",
     "output_type": "stream",
     "text": [
      "Select nearest candidate id: 0\n",
      "\n",
      "        UPDATE nvdimp_plots_w_sp\n",
      "        SET \n",
      "            namecode = '205659', species = 'Selaginella moellendorffii'\n",
      "        WHERE species = 'Selaginella mollendorffii'; \n",
      "        \n",
      "Confirm? (Y/n) y\n",
      "141\n",
      "檢查的學名為: Hernandia nymphiifolia\n",
      "相似的學名如下： \n",
      "\n"
     ]
    },
    {
     "data": {
      "text/html": [
       "<table><tr><td>id</td><td>namecode</td><td>name</td><td>zh_name</td></tr><tr><td>0</td><td>400866</td><td>Hernandia nymphaeifolia</td><td>蓮葉桐</td></tr></table>"
      ],
      "text/plain": [
       "[['id', 'namecode', 'name', 'zh_name'],\n",
       " ['0', '400866', 'Hernandia nymphaeifolia', '蓮葉桐']]"
      ]
     },
     "metadata": {},
     "output_type": "display_data"
    },
    {
     "name": "stdout",
     "output_type": "stream",
     "text": [
      "Select nearest candidate id: 0\n",
      "\n",
      "        UPDATE nvdimp_plots_w_sp\n",
      "        SET \n",
      "            namecode = '400866', species = 'Hernandia nymphaeifolia'\n",
      "        WHERE species = 'Hernandia nymphiifolia'; \n",
      "        \n",
      "Confirm? (Y/n) y\n",
      "142\n",
      "檢查的學名為: Microsorium buergerianum\n",
      "相似的學名如下： \n",
      "\n"
     ]
    },
    {
     "data": {
      "text/html": [
       "<table><tr><td>id</td><td>namecode</td><td>name</td><td>zh_name</td></tr><tr><td>0</td><td>None</td><td>Microsorum buergerianum</td><td>波氏星蕨</td></tr></table>"
      ],
      "text/plain": [
       "[['id', 'namecode', 'name', 'zh_name'],\n",
       " ['0', None, 'Microsorum buergerianum', '波氏星蕨']]"
      ]
     },
     "metadata": {},
     "output_type": "display_data"
    },
    {
     "name": "stdout",
     "output_type": "stream",
     "text": [
      "Select nearest candidate id: 0\n",
      "\n",
      "        UPDATE nvdimp_plots_w_sp\n",
      "        SET \n",
      "            namecode = 'None', species = 'Microsorum buergerianum'\n",
      "        WHERE species = 'Microsorium buergerianum'; \n",
      "        \n",
      "Confirm? (Y/n) y\n",
      "143\n",
      "檢查的學名為: Elaeagnus ohashii\n",
      "相似的學名如下： \n",
      "\n"
     ]
    },
    {
     "data": {
      "text/html": [
       "<table><tr><td>id</td><td>namecode</td><td>name</td><td>zh_name</td></tr></table>"
      ],
      "text/plain": [
       "[['id', 'namecode', 'name', 'zh_name']]"
      ]
     },
     "metadata": {},
     "output_type": "display_data"
    },
    {
     "name": "stdout",
     "output_type": "stream",
     "text": [
      "Select nearest candidate id: \n",
      "Please input the correct name: Elaeagnus formosensis\n",
      "144\n",
      "檢查的學名為: Pasania cornea\n",
      "相似的學名如下： \n",
      "\n"
     ]
    },
    {
     "data": {
      "text/html": [
       "<table><tr><td>id</td><td>namecode</td><td>name</td><td>zh_name</td></tr></table>"
      ],
      "text/plain": [
       "[['id', 'namecode', 'name', 'zh_name']]"
      ]
     },
     "metadata": {},
     "output_type": "display_data"
    },
    {
     "name": "stdout",
     "output_type": "stream",
     "text": [
      "Select nearest candidate id: \n",
      "Please input the correct name: Lithocarpus corneus\n",
      "145\n",
      "檢查的學名為: Fragaria hayatai\n",
      "相似的學名如下： \n",
      "\n"
     ]
    },
    {
     "data": {
      "text/html": [
       "<table><tr><td>id</td><td>namecode</td><td>name</td><td>zh_name</td></tr><tr><td>0</td><td>204151</td><td>Fragaria hayatae</td><td>臺灣草莓</td></tr></table>"
      ],
      "text/plain": [
       "[['id', 'namecode', 'name', 'zh_name'],\n",
       " ['0', '204151', 'Fragaria hayatae', '臺灣草莓']]"
      ]
     },
     "metadata": {},
     "output_type": "display_data"
    },
    {
     "name": "stdout",
     "output_type": "stream",
     "text": [
      "Select nearest candidate id: 0\n",
      "\n",
      "        UPDATE nvdimp_plots_w_sp\n",
      "        SET \n",
      "            namecode = '204151', species = 'Fragaria hayatae'\n",
      "        WHERE species = 'Fragaria hayatai'; \n",
      "        \n",
      "Confirm? (Y/n) y\n",
      "146\n",
      "檢查的學名為: Neoalsomitra integrifolia\n",
      "相似的學名如下： \n",
      "\n"
     ]
    },
    {
     "data": {
      "text/html": [
       "<table><tr><td>id</td><td>namecode</td><td>name</td><td>zh_name</td></tr><tr><td>0</td><td>204975</td><td>Neoalsomitra integrifoliola</td><td>穿山龍</td></tr></table>"
      ],
      "text/plain": [
       "[['id', 'namecode', 'name', 'zh_name'],\n",
       " ['0', '204975', 'Neoalsomitra integrifoliola', '穿山龍']]"
      ]
     },
     "metadata": {},
     "output_type": "display_data"
    },
    {
     "name": "stdout",
     "output_type": "stream",
     "text": [
      "Select nearest candidate id: 0\n",
      "\n",
      "        UPDATE nvdimp_plots_w_sp\n",
      "        SET \n",
      "            namecode = '204975', species = 'Neoalsomitra integrifoliola'\n",
      "        WHERE species = 'Neoalsomitra integrifolia'; \n",
      "        \n",
      "Confirm? (Y/n) y\n",
      "147\n",
      "檢查的學名為: Heterosmilax indica\n",
      "相似的學名如下： \n",
      "\n"
     ]
    },
    {
     "data": {
      "text/html": [
       "<table><tr><td>id</td><td>namecode</td><td>name</td><td>zh_name</td></tr></table>"
      ],
      "text/plain": [
       "[['id', 'namecode', 'name', 'zh_name']]"
      ]
     },
     "metadata": {},
     "output_type": "display_data"
    },
    {
     "name": "stdout",
     "output_type": "stream",
     "text": [
      "Select nearest candidate id: \n",
      "Please input the correct name: Smilax bockii\n",
      "148\n",
      "檢查的學名為: Potentilla matsumurae var. pilosa\n",
      "相似的學名如下： \n",
      "\n"
     ]
    },
    {
     "data": {
      "text/html": [
       "<table><tr><td>id</td><td>namecode</td><td>name</td><td>zh_name</td></tr><tr><td>0</td><td>204164</td><td>Potentilla matsumurae</td><td>高山翻白草</td></tr></table>"
      ],
      "text/plain": [
       "[['id', 'namecode', 'name', 'zh_name'],\n",
       " ['0', '204164', 'Potentilla matsumurae', '高山翻白草']]"
      ]
     },
     "metadata": {},
     "output_type": "display_data"
    },
    {
     "name": "stdout",
     "output_type": "stream",
     "text": [
      "Select nearest candidate id: 0\n",
      "\n",
      "        UPDATE nvdimp_plots_w_sp\n",
      "        SET \n",
      "            namecode = '204164', species = 'Potentilla matsumurae'\n",
      "        WHERE species = 'Potentilla matsumurae var. pilosa'; \n",
      "        \n",
      "Confirm? (Y/n) y\n",
      "149\n",
      "檢查的學名為: Oxalis acetocella subsp. taemoni\n",
      "相似的學名如下： \n",
      "\n"
     ]
    },
    {
     "data": {
      "text/html": [
       "<table><tr><td>id</td><td>namecode</td><td>name</td><td>zh_name</td></tr><tr><td>0</td><td>203412</td><td>Oxalis acetosella subsp. griffithii</td><td>山酢漿草</td></tr><tr><td>1</td><td>203412</td><td>Oxalis acetosella subsp. formosana</td><td>臺灣山酢漿草</td></tr><tr><td>2</td><td>430803</td><td>Oxalis acetosella subsp. taemoni</td><td>大霸尖山酢漿草</td></tr><tr><td>3</td><td>430804</td><td>Oxalis acetosella subsp. griffithii</td><td>臺灣山酢漿草</td></tr></table>"
      ],
      "text/plain": [
       "[['id', 'namecode', 'name', 'zh_name'],\n",
       " ['0', '203412', 'Oxalis acetosella subsp. griffithii', '山酢漿草'],\n",
       " ['1', '203412', 'Oxalis acetosella subsp. formosana', '臺灣山酢漿草'],\n",
       " ['2', '430803', 'Oxalis acetosella subsp. taemoni', '大霸尖山酢漿草'],\n",
       " ['3', '430804', 'Oxalis acetosella subsp. griffithii', '臺灣山酢漿草']]"
      ]
     },
     "metadata": {},
     "output_type": "display_data"
    },
    {
     "name": "stdout",
     "output_type": "stream",
     "text": [
      "Select nearest candidate id: 2\n",
      "\n",
      "        UPDATE nvdimp_plots_w_sp\n",
      "        SET \n",
      "            namecode = '430803', species = 'Oxalis acetosella subsp. taemoni'\n",
      "        WHERE species = 'Oxalis acetocella subsp. taemoni'; \n",
      "        \n",
      "Confirm? (Y/n) y\n",
      "150\n",
      "檢查的學名為: Cunninghamia konishii\n",
      "相似的學名如下： \n",
      "\n"
     ]
    },
    {
     "data": {
      "text/html": [
       "<table><tr><td>id</td><td>namecode</td><td>name</td><td>zh_name</td></tr></table>"
      ],
      "text/plain": [
       "[['id', 'namecode', 'name', 'zh_name']]"
      ]
     },
     "metadata": {},
     "output_type": "display_data"
    },
    {
     "name": "stdout",
     "output_type": "stream",
     "text": [
      "Select nearest candidate id: \n",
      "Please input the correct name: Cunninghamia lanceolata var. konishii\n"
     ]
    }
   ],
   "source": [
    "for sp in range(103, len(null_names)):\n",
    "    print(sp)\n",
    "    fuzzysearch(null_names[sp]['species'])\n",
    "    Out.clear()"
   ]
  },
  {
   "cell_type": "code",
   "execution_count": 255,
   "metadata": {
    "collapsed": false
   },
   "outputs": [],
   "source": [
    "# 再 check 一次\n",
    "with conn:\n",
    "    with conn.cursor(cursor_factory = psycopg2.extras.RealDictCursor) as curs:\n",
    "        CHECK_NULL_ZHNAME = '''\n",
    "        SELECT \n",
    "            distinct species,s.zh_name\n",
    "        FROM \n",
    "            nvdimp_plots_w_sp s \n",
    "        LEFT OUTER JOIN \n",
    "            namelist n \n",
    "        ON \n",
    "            s.species= n.name \n",
    "        WHERE s.zh_name is null; '''\n",
    "        curs.execute(CHECK_NULL_ZHNAME)\n",
    "        null_names = curs.fetchall()"
   ]
  },
  {
   "cell_type": "code",
   "execution_count": 256,
   "metadata": {
    "collapsed": false
   },
   "outputs": [
    {
     "data": {
      "text/plain": [
       "[]"
      ]
     },
     "execution_count": 256,
     "metadata": {},
     "output_type": "execute_result"
    }
   ],
   "source": [
    "null_names"
   ]
  },
  {
   "cell_type": "markdown",
   "metadata": {},
   "source": [
    "## 2. 空間上物種分布點位與保護區的交集"
   ]
  },
  {
   "cell_type": "markdown",
   "metadata": {},
   "source": [
    "### 資料前處理\n",
    "\n",
    "因為植群樣區調查的資料有調查年份，但之前取得的資料並沒有完整(例：Braun-Blanquet 樣區調查資料中有 pdate 的日期，\n",
    "但傳統樣區我取得的資料表並無，所以得找看看之前的 rawdata 有沒有資料）"
   ]
  },
  {
   "cell_type": "code",
   "execution_count": 266,
   "metadata": {
    "collapsed": false
   },
   "outputs": [],
   "source": [
    "# 發現沒有年份，重新撈資料回來更新\n",
    "nvdimp_m_plotdata = []\n",
    "with open('./data/nvdimp_m_plotdata_200812.csv', 'r') as f:\n",
    "    reader = csv.reader(f, delimiter='|')\n",
    "    for row in reader:\n",
    "        nvdimp_m_plotdata.append(row)"
   ]
  },
  {
   "cell_type": "code",
   "execution_count": 278,
   "metadata": {
    "collapsed": false
   },
   "outputs": [],
   "source": [
    "for i in range(1, len(nvdimp_m_plotdata)):\n",
    "    UPDATE_NVDIMP_M_DATE = '''\n",
    "    UPDATE \n",
    "        nvdimp_tradplots_info\n",
    "    SET \n",
    "        survey_year = %i\n",
    "    WHERE \n",
    "        plotid = '%s';''' % (int(nvdimp_m_plotdata[i][38]), nvdimp_m_plotdata[i][1])\n",
    "    with conn:\n",
    "        with conn.cursor(cursor_factory = psycopg2.extras.RealDictCursor) as curs:\n",
    "            curs.execute(UPDATE_NVDIMP_M_DATE)"
   ]
  },
  {
   "cell_type": "code",
   "execution_count": 9,
   "metadata": {
    "collapsed": true
   },
   "outputs": [],
   "source": [
    "# 更新調查年份(survey_year)\n",
    "\n",
    "# Braun-Blanquet 樣區調查中使用 pdate 當成調查日期，新建一個 survey_year 欄位，\n",
    "# 並根據 pdate 填入資料\n",
    "# 增加調查年份的 column SQL: ALTER TABLE nvdimp_plots_w_sp add COLUMN survey_year integer;\n",
    "#\n",
    "#\n",
    "# \n",
    "# nvdimp_plots_w_sp: 每個樣區的物種清單\n",
    "# nvdimp_brbqplots_info: Braun-Blanquet 樣區 header 資訊\n",
    "# nvdimp_tradplots_info: 傳統英美學派計數樣區法\n",
    "UPDATE_SURVEY_YR = '''UPDATE \n",
    "    nvdimp_brbqplots_info \n",
    "SET \n",
    "    survey_year = cast(split_part(cast(pdate as text), '-', 1) as INTEGER);\n",
    "UPDATE \n",
    "    nvdimp_plots_w_sp as s \n",
    "SET \n",
    "    survey_year = t.survey_year \n",
    "FROM \n",
    "    (SELECT * FROM nvdimp_tradplots_info) as t \n",
    "WHERE t.plotid = s.plotid;\n",
    "UPDATE \n",
    "    nvdimp_plots_w_sp as s \n",
    "SET \n",
    "    survey_year = t.survey_year \n",
    "FROM \n",
    "    (SELECT * FROM nvdimp_brbqplots_info) as t \n",
    "WHERE t.plotid = s.plotid;'''\n",
    "with conn:\n",
    "    with conn.cursor(cursor_factory = psycopg2.extras.RealDictCursor) as curs:\n",
    "        curs.execute(UPDATE_SURVEY_YR)"
   ]
  },
  {
   "cell_type": "markdown",
   "metadata": {},
   "source": [
    "更新之後，稍微驗算一下資料更新是否有問題"
   ]
  },
  {
   "cell_type": "code",
   "execution_count": 12,
   "metadata": {
    "collapsed": false
   },
   "outputs": [],
   "source": [
    "# 確認看是否有調查年份是空值(null)者\n",
    "CHECK_YR_NULL = \"SELECT  plotid FROM nvdimp_plots_w_sp WHERE survey_year is null;\"\n",
    "CHECK_YEARLY_PLOTS_NUM = '''SELECT \n",
    "    f.survey_year,count(plotid) \n",
    "FROM \n",
    " (SELECT distinct plotid, survey_year FROM nvdimp_plots_w_sp) AS f \n",
    "GROUP BY \n",
    "    f.survey_year order by survey_year;'''\n",
    "with conn:\n",
    "    with conn.cursor() as curs:\n",
    "        curs.execute(CHECK_YR_NULL)\n",
    "        check_null_res = curs.fetchall()\n",
    "        if  check_null_res == '':\n",
    "            print(\"OK!\")\n",
    "        else:\n",
    "            check_null_res\n",
    "        curs.execute(CHECK_YEARLY_PLOTS_NUM)\n",
    "        yr_plots_no = curs.fetchall()\n",
    "        table = ListTable()\n",
    "        for i in yr_plots_no:\n",
    "            table.append(i)\n",
    "            \n"
   ]
  },
  {
   "cell_type": "code",
   "execution_count": 13,
   "metadata": {
    "collapsed": false
   },
   "outputs": [
    {
     "data": {
      "text/html": [
       "<table><tr><td>2003</td><td>699</td></tr><tr><td>2004</td><td>737</td></tr><tr><td>2005</td><td>708</td></tr><tr><td>2006</td><td>700</td></tr><tr><td>2007</td><td>720</td></tr></table>"
      ],
      "text/plain": [
       "[(2003, 699), (2004, 737), (2005, 708), (2006, 700), (2007, 720)]"
      ]
     },
     "execution_count": 13,
     "metadata": {},
     "output_type": "execute_result"
    }
   ],
   "source": [
    "table"
   ]
  },
  {
   "cell_type": "markdown",
   "metadata": {},
   "source": [
    "看起來每年大概做了 700 個樣區(真的很辛苦，印象中 2007 年和定宏做樣區時候中央山脈走七天還做不到 20 個)\n",
    "\n",
    "## 套用國家公園的圖層來計算物種清單\n",
    "\n",
    "接下來我們使用 PostGIS ```st_intersects(geom_a, geom_b)``` 來找出國家植群計畫樣區有哪些是在國家公園及自然保護留區系統中，就能夠建立各國家公園及自然保護留區系統的植物名錄\n",
    "\n",
    "\n",
    "相關圖層：\n",
    "\n",
    "| 圖層名稱      | 縮寫 | 我的 postgis 資料表名稱   | 資料筆數   | 備註     |\n",
    "| ------------ | ----|---------------------- | --------: |---------|\n",
    "| 國家公園      | NPK   | env.tw_national_park    | 9        |         |\n",
    "| 國家自然公園   | NNP  | NA                      | 1        | 尚待建立 |\n",
    "| 自然保護區     | NPA  |env.tw_nature_protect   | 6        | |\n",
    "| 自然保留區     | NRA  |env.tw_nature_reserve   | 19       | |\n",
    "| 野生動物重要棲息環境| WLH | env.tw_wildlife_habitats | 33  | |\n",
    "| 野生動物保護區  | WLP  | env.tw_wildlife_protect | 17       | |"
   ]
  },
  {
   "cell_type": "code",
   "execution_count": 53,
   "metadata": {
    "collapsed": true
   },
   "outputs": [],
   "source": [
    "def intersect_geolyrs(lyr, splist = 'nvdimp_plots_w_sp', lyr_geom = 'geom_wgs84', \\\n",
    "                      splist_geom = 'geom_wgs84', **kwargs):\n",
    "    \n",
    "    output_list = []\n",
    "    with conn:\n",
    "        with conn.cursor(cursor_factory = psycopg2.extras.RealDictCursor) as curs:\n",
    "            QUERY_SPYR = '''SELECT \n",
    "                  distinct np.name, p.zh_name, p.species, p.survey_year\n",
    "               FROM \n",
    "                  env.%s np, %s p \n",
    "               WHERE \n",
    "                  st_intersects(np.%s, p.%s)\n",
    "               ORDER BY np.name, p.survey_year;''' % (lyr, splist, lyr_geom, splist_geom)\n",
    "            curs.execute(QUERY_SPYR)\n",
    "            res = curs.fetchall()\n",
    "            for i in res:\n",
    "                output_list.append([i['name'], i['survey_year'], i['species'], i['zh_name']])\n",
    "    return(output_list)"
   ]
  },
  {
   "cell_type": "code",
   "execution_count": 50,
   "metadata": {
    "collapsed": false
   },
   "outputs": [
    {
     "ename": "TypeError",
     "evalue": "list indices must be integers, not str",
     "output_type": "error",
     "traceback": [
      "\u001b[0;31m---------------------------------------------------------------------------\u001b[0m",
      "\u001b[0;31mTypeError\u001b[0m                                 Traceback (most recent call last)",
      "\u001b[0;32m<ipython-input-50-cb7433abc468>\u001b[0m in \u001b[0;36m<module>\u001b[0;34m()\u001b[0m\n\u001b[1;32m      1\u001b[0m \u001b[0mnpsys\u001b[0m \u001b[0;34m=\u001b[0m \u001b[0;34m[\u001b[0m\u001b[0;34m'tw_national_park'\u001b[0m\u001b[0;34m,\u001b[0m \u001b[0;34m'tw_nature_protect'\u001b[0m\u001b[0;34m,\u001b[0m \u001b[0;34m'tw_nature_reserve'\u001b[0m\u001b[0;34m,\u001b[0m \u001b[0;34m'tw_wildlife_habitats'\u001b[0m\u001b[0;34m,\u001b[0m        \u001b[0;34m'tw_wildlife_protect'\u001b[0m\u001b[0;34m]\u001b[0m\u001b[0;34m\u001b[0m\u001b[0m\n\u001b[1;32m      2\u001b[0m \u001b[0;32mfor\u001b[0m \u001b[0mn\u001b[0m \u001b[0;32min\u001b[0m \u001b[0mnpsys\u001b[0m\u001b[0;34m:\u001b[0m\u001b[0;34m\u001b[0m\u001b[0m\n\u001b[0;32m----> 3\u001b[0;31m     \u001b[0moutlist\u001b[0m\u001b[0;34m[\u001b[0m\u001b[0mn\u001b[0m\u001b[0;34m]\u001b[0m \u001b[0;34m=\u001b[0m \u001b[0mintersect_geolyrs\u001b[0m\u001b[0;34m(\u001b[0m\u001b[0mn\u001b[0m\u001b[0;34m)\u001b[0m\u001b[0;34m\u001b[0m\u001b[0m\n\u001b[0m\u001b[1;32m      4\u001b[0m     \u001b[0moutfile\u001b[0m \u001b[0;34m=\u001b[0m \u001b[0mopen\u001b[0m\u001b[0;34m(\u001b[0m\u001b[0;34m\"nvdimp_%s.csv\"\u001b[0m \u001b[0;34m%\u001b[0m \u001b[0mn\u001b[0m\u001b[0;34m,\u001b[0m\u001b[0;34m'w'\u001b[0m\u001b[0;34m)\u001b[0m\u001b[0;34m\u001b[0m\u001b[0m\n\u001b[1;32m      5\u001b[0m     \u001b[0mwr\u001b[0m \u001b[0;34m=\u001b[0m \u001b[0mcsv\u001b[0m\u001b[0;34m.\u001b[0m\u001b[0mwriter\u001b[0m\u001b[0;34m(\u001b[0m\u001b[0moutfile\u001b[0m\u001b[0;34m,\u001b[0m \u001b[0mdialect\u001b[0m\u001b[0;34m=\u001b[0m\u001b[0;34m'excel'\u001b[0m\u001b[0;34m)\u001b[0m\u001b[0;34m\u001b[0m\u001b[0m\n",
      "\u001b[0;31mTypeError\u001b[0m: list indices must be integers, not str"
     ]
    }
   ],
   "source": [
    "npsys = ['tw_national_park', 'tw_nature_protect', 'tw_nature_reserve', 'tw_wildlife_habitats',\\\n",
    "        'tw_wildlife_protect']\n",
    "for n in npsys:\n",
    "    outlist = intersect_geolyrs(n)\n",
    "    outfile = open(\"nvdimp_%s.csv\" % n,'w')\n",
    "    wr = csv.writer(outfile, dialect='excel')\n",
    "    wr.writerows(outlist)"
   ]
  },
  {
   "cell_type": "code",
   "execution_count": 32,
   "metadata": {
    "collapsed": false
   },
   "outputs": [
    {
     "name": "stderr",
     "output_type": "stream",
     "text": [
      "/usr/local/lib/python3.4/site-packages/rpy2/ipython/rmagic.py:68: UserWarning: The Python package 'pandas' is stronglyrecommended when using `rpy2.ipython`. Unfortunately it could not be loaded, but at least we found 'numpy'.\n",
      "  \"but at least we found 'numpy'.\")))\n"
     ]
    }
   ],
   "source": [
    "# 靠么， pandas 壞掉了，懶得修，以下開始改用 R\n",
    "import rpy2.ipython\n",
    "import rpy2.robjects.packages as rpackages\n"
   ]
  },
  {
   "cell_type": "code",
   "execution_count": 34,
   "metadata": {
    "collapsed": false
   },
   "outputs": [],
   "source": [
    "%load_ext rpy2.ipython"
   ]
  },
  {
   "cell_type": "code",
   "execution_count": 46,
   "metadata": {
    "collapsed": false
   },
   "outputs": [
    {
     "data": {
      "text/plain": [
       "       np_name year                               species zh_name\n",
       "1 墾丁國家公園 2004              Lagerstroemia subcostata    九芎\n",
       "2 墾丁國家公園 2004                  Cryptocarya concinna    土楠\n",
       "3 墾丁國家公園 2004              Parthenocissus dalzielii    地錦\n",
       "4 墾丁國家公園 2004 Capparis sikkimensis subsp. formosana    山柑\n",
       "5 墾丁國家公園 2004                  Champereia manillana    山柚\n",
       "6 墾丁國家公園 2004                        Arenga tremula    山棕\n"
      ]
     },
     "metadata": {},
     "output_type": "display_data"
    }
   ],
   "source": [
    "%%R -o a\n",
    "a = read.csv('./data/checklists/tw_national_park.csv', header=F)\n",
    "colnames(a) = c('np_name', 'year', 'species', 'zh_name')\n",
    "head(a)\n"
   ]
  },
  {
   "cell_type": "code",
   "execution_count": 52,
   "metadata": {
    "collapsed": false
   },
   "outputs": [
    {
     "data": {
      "text/plain": [
       "['玉里野生動物保護區', 2006, 'Miscanthus sinensis', '芒']"
      ]
     },
     "execution_count": 52,
     "metadata": {},
     "output_type": "execute_result"
    }
   ],
   "source": [
    "outlist"
   ]
  },
  {
   "cell_type": "code",
   "execution_count": null,
   "metadata": {
    "collapsed": true
   },
   "outputs": [],
   "source": []
  }
 ],
 "metadata": {
  "kernelspec": {
   "display_name": "Python 3",
   "language": "python",
   "name": "python3"
  },
  "language_info": {
   "codemirror_mode": {
    "name": "ipython",
    "version": 3
   },
   "file_extension": ".py",
   "mimetype": "text/x-python",
   "name": "python",
   "nbconvert_exporter": "python",
   "pygments_lexer": "ipython3",
   "version": "3.4.3"
  }
 },
 "nbformat": 4,
 "nbformat_minor": 0
}
